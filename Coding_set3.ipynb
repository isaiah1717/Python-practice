{
 "cells": [
  {
   "cell_type": "markdown",
   "id": "f8b42c5d",
   "metadata": {},
   "source": [
    "Algorithm workbench"
   ]
  },
  {
   "cell_type": "markdown",
   "id": "6855c601",
   "metadata": {},
   "source": [
    "#4"
   ]
  },
  {
   "cell_type": "markdown",
   "id": "795ad677",
   "metadata": {},
   "source": [
    "rewrite the code and use proper alignment and indentation"
   ]
  },
  {
   "cell_type": "code",
   "execution_count": null,
   "id": "eafd63da",
   "metadata": {
    "scrolled": false
   },
   "outputs": [],
   "source": [
    "score = int(input(\"enter your score: \"))\n",
    "\n",
    "if score >= 90:\n",
    "    print('Your grade is an A')  \n",
    "elif score >= 80:\n",
    "    print('Your grade is a B')\n",
    "elif score >= 70:\n",
    "    print('your grade is a C')\n",
    "elif score >= 60:\n",
    "    print('your grade is a D')\n",
    "else:\n",
    "    print('your grade is a F')"
   ]
  },
  {
   "cell_type": "markdown",
   "id": "350dba2e",
   "metadata": {},
   "source": [
    "#5"
   ]
  },
  {
   "cell_type": "markdown",
   "id": "53f25605",
   "metadata": {},
   "source": [
    "write a code that amount 1 is greater than\n",
    "10 and amount2 is less than 100, display the greater of amount1 and amount2."
   ]
  },
  {
   "cell_type": "code",
   "execution_count": null,
   "id": "a971563a",
   "metadata": {},
   "outputs": [],
   "source": [
    "amount_1 = float(input(\"enter first amount: \"))\n",
    "amount_2 = float(input(\"enter second amount: \"))\n",
    "\n",
    "if amount_1 > 10:\n",
    "    if amount_2 < 100:\n",
    "        if amount_1 > amount_2:\n",
    "            print('The greater amount is', amount_1)\n",
    "        else:\n",
    "            print('The greater amount is', amount_2)\n",
    "    else:\n",
    "        print(\"the amount 2 isn't less than 100 \")\n",
    "else:\n",
    "    print(\"amount 1 is not greater than 10\")\n",
    "\n",
    "\n",
    "\n",
    "\n",
    "\n"
   ]
  },
  {
   "cell_type": "markdown",
   "id": "be7b431c",
   "metadata": {},
   "source": [
    "Programming exercises"
   ]
  },
  {
   "cell_type": "markdown",
   "id": "07700845",
   "metadata": {},
   "source": [
    "#1"
   ]
  },
  {
   "cell_type": "markdown",
   "id": "cb58b6b5",
   "metadata": {},
   "source": [
    "write program that ask user for input 1-7"
   ]
  },
  {
   "cell_type": "markdown",
   "id": "6b97a5bc",
   "metadata": {},
   "source": [
    "Days of the week"
   ]
  },
  {
   "cell_type": "code",
   "execution_count": null,
   "id": "718ff78e",
   "metadata": {},
   "outputs": [],
   "source": [
    "value = int(input('pick a number 1-7: '))\n",
    "if value == 1:\n",
    "    print(\"it's Monday!\")\n",
    "elif value == 2:\n",
    "    print(\"it's Tuesday!\")\n",
    "elif value == 3:\n",
    "    print(\"It's Wednesday!\")\n",
    "elif value == 4:\n",
    "    print(\"It's Thursday!\")\n",
    "elif value == 5:\n",
    "    print(\"It's Friday, enjoy your weekend\")\n",
    "elif value == 6:\n",
    "    print(\"It's Saturday!\")\n",
    "elif value == 7:\n",
    "    print(\"It's sunday!\")\n",
    "else: \n",
    "    print(\"You did not provide a number 1-7\")"
   ]
  },
  {
   "cell_type": "markdown",
   "id": "d254619a",
   "metadata": {},
   "source": [
    "#2"
   ]
  },
  {
   "cell_type": "markdown",
   "id": "9b55558e",
   "metadata": {},
   "source": [
    "Areas of Rectangles"
   ]
  },
  {
   "cell_type": "code",
   "execution_count": 1,
   "id": "fc1877a6",
   "metadata": {},
   "outputs": [
    {
     "name": "stdout",
     "output_type": "stream",
     "text": [
      "Enter the length of rectangle 1: 3\n",
      "Enther the width of rectangle 1: 3\n",
      "Enter the length of rectangle 2: 3\n",
      "Enter the width of rectangle 2: 3\n",
      "Rectangle 1 & 2 have the same area\n"
     ]
    }
   ],
   "source": [
    "#rectangle 1\n",
    "length_1 = float(input(\"Enter the length of rectangle 1: \"))\n",
    "width_1 = float(input(\"Enther the width of rectangle 1: \"))\n",
    "\n",
    "#rectangle 2\n",
    "length_2 = float(input(\"Enter the length of rectangle 2: \"))\n",
    "width_2 = float(input(\"Enter the width of rectangle 2: \"))\n",
    "\n",
    "#find area of both rectangles\n",
    "area_1 = length_1 * width_1\n",
    "area_2 = length_2 * width_2\n",
    "\n",
    "#Which rectangle has the greater area\n",
    "if area_1 > area_2:\n",
    "    print(\"Rectangle 1 has a better area\")\n",
    "elif area_1 < area_2:\n",
    "    print(\"rectangle 2 has a better area\")\n",
    "elif area_1 == area_2:\n",
    "    print(\"Rectangle 1 & 2 have the same area\")"
   ]
  },
  {
   "cell_type": "markdown",
   "id": "4b951e70",
   "metadata": {},
   "source": [
    "#15"
   ]
  },
  {
   "cell_type": "code",
   "execution_count": null,
   "id": "025ac7c8",
   "metadata": {},
   "outputs": [],
   "source": [
    "Time calculator"
   ]
  },
  {
   "cell_type": "markdown",
   "id": "ed41be07",
   "metadata": {},
   "source": [
    "Write a program that asks the user to enter a number of seconds and works as follows:\n",
    "• There are 60 seconds in a minute. If the number of seconds entered by the user is greater\n",
    "than or equal to 60, the program should convert the number of seconds to minutes and\n",
    "seconds.\n",
    "• There are 3,600 seconds in an hour. If the number of seconds entered by the user is\n",
    "greater than or equal to 3,600, the program should convert the number of seconds to\n",
    "hours, minutes, and seconds.\n",
    "• There are 86,400 seconds in a day. If the number of seconds entered by the user is\n",
    "greater than or equal to 86,400, the program should convert the number of seconds to\n",
    "days, hours, minutes, and seconds."
   ]
  },
  {
   "cell_type": "code",
   "execution_count": 27,
   "id": "cf21f903",
   "metadata": {},
   "outputs": [
    {
     "name": "stdout",
     "output_type": "stream",
     "text": [
      "enter the number of seconds: 60\n",
      "1 day(s), 18 hour(s), 1 minute(s), and 0 second(s).\n"
     ]
    }
   ],
   "source": [
    "total_seconds = int(input('enter the number of seconds: '))\n",
    "\n",
    "if total_seconds >= 86400:\n",
    "    days = total_seconds // 86400\n",
    "    total_seconds %= 86400\n",
    "\n",
    "if total_seconds >= 3600:\n",
    "    hour= total_seconds // 3600\n",
    "    total_seconds %= 3600\n",
    "    \n",
    "if total_seconds >= 60:\n",
    "    minutes = total_seconds // 60\n",
    "    total_seconds %= 60\n",
    "\n",
    "seconds = total_seconds\n",
    "\n",
    "if days > 0: \n",
    "    print(f\"{days} day(s), {hour} hour(s), {minutes} minute(s), and {seconds} second(s).\")\n",
    "elif hours > 0:\n",
    "    print(f\"{hours} hour(s), {minutes} minute(s), and {seconds} second(s).\")\n",
    "elif minutes > 0:\n",
    "    print(f\"{minutes} minute(s), and {seconds} second(s).\")\n",
    "else:\n",
    "    print(f\"{seconds} second(s).\")\n",
    "    "
   ]
  },
  {
   "cell_type": "code",
   "execution_count": null,
   "id": "4de5cb2c",
   "metadata": {},
   "outputs": [],
   "source": [
    "#16"
   ]
  },
  {
   "cell_type": "code",
   "execution_count": null,
   "id": "5ca8d91f",
   "metadata": {},
   "outputs": [],
   "source": [
    "Febuary days"
   ]
  },
  {
   "cell_type": "code",
   "execution_count": 34,
   "id": "5404c2e7",
   "metadata": {},
   "outputs": [
    {
     "name": "stdout",
     "output_type": "stream",
     "text": [
      "Enter a year: 2009\n",
      "Febuary 2009 has 28 days\n"
     ]
    }
   ],
   "source": [
    "year = int(input(\"Enter a year: \"))\n",
    "if (year % 4 == 0 and year % 100 != 0) or (year % 400 ==0):\n",
    "    print(f'feburary {year} has 29 days')\n",
    "else:\n",
    "    print(f'Febuary {year} has 28 days')"
   ]
  },
  {
   "cell_type": "code",
   "execution_count": null,
   "id": "464801f7",
   "metadata": {},
   "outputs": [],
   "source": []
  }
 ],
 "metadata": {
  "kernelspec": {
   "display_name": "Python 3 (ipykernel)",
   "language": "python",
   "name": "python3"
  },
  "language_info": {
   "codemirror_mode": {
    "name": "ipython",
    "version": 3
   },
   "file_extension": ".py",
   "mimetype": "text/x-python",
   "name": "python",
   "nbconvert_exporter": "python",
   "pygments_lexer": "ipython3",
   "version": "3.11.4"
  }
 },
 "nbformat": 4,
 "nbformat_minor": 5
}
