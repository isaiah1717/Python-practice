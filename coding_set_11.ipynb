{
  "nbformat": 4,
  "nbformat_minor": 0,
  "metadata": {
    "colab": {
      "provenance": [],
      "authorship_tag": "ABX9TyNsIqJU3zNLR7vWYblNNeQx",
      "include_colab_link": true
    },
    "kernelspec": {
      "name": "python3",
      "display_name": "Python 3"
    },
    "language_info": {
      "name": "python"
    }
  },
  "cells": [
    {
      "cell_type": "markdown",
      "metadata": {
        "id": "view-in-github",
        "colab_type": "text"
      },
      "source": [
        "<a href=\"https://colab.research.google.com/github/isaiah1717/Python-practice/blob/main/coding_set_11.ipynb\" target=\"_parent\"><img src=\"https://colab.research.google.com/assets/colab-badge.svg\" alt=\"Open In Colab\"/></a>"
      ]
    },
    {
      "cell_type": "markdown",
      "source": [
        "#Programming exercises\n",
        "##1- Employee and production worker classes\n",
        "#Write an Employee class that keeps data attributes for the following pieces of information:• Employee name • Employee number\n",
        "#Next, write a class named ProductionWorker that is a subclass of the Employee class.\n",
        "#The ProductionWorker class should keep data attributes for the following information: • Shift number (an integer, such as 1, 2, or 3)\n",
        "#• Hourly pay rate"
      ],
      "metadata": {
        "id": "h79hInqZ8T0h"
      }
    },
    {
      "cell_type": "code",
      "execution_count": 23,
      "metadata": {
        "colab": {
          "base_uri": "https://localhost:8080/"
        },
        "id": "wv6wRJ2F7QvE",
        "outputId": "c8fd1c5d-f60f-49d5-beaf-1d7d81d1e3d0"
      },
      "outputs": [
        {
          "output_type": "stream",
          "name": "stdout",
          "text": [
            "Enter employee name: isaiah\n",
            "Enter employee number: 17\n",
            "Enter shift number (1 for day, 2 for night): 1\n",
            "Enter hourly rate pay: 100\n",
            "\n",
            "Employee Details: \n",
            "Name: isaiah\n",
            "Employee Number: 17\n",
            "Shift: Day\n",
            "Hourly Rate Pay: 100.0\n"
          ]
        }
      ],
      "source": [
        "#create a class for employee information\n",
        "class Employee:\n",
        "  def __init__(self, name, emp_num):\n",
        "   #initialize the data attributes\n",
        "    self.__name = name\n",
        "    self.__emp_num = emp_num\n",
        "\n",
        "  #create the getter for name\n",
        "  def get_name(self):\n",
        "    return self.__name\n",
        "\n",
        "  #create getter for employee number\n",
        "  def get_emp_num(self):\n",
        "    return self.__emp_num\n",
        "\n",
        "  #use the setter to set the names\n",
        "  def set_name(self, name):\n",
        "    self.__name = name\n",
        "\n",
        "  def set_emp_num(self, emp_num):\n",
        "    self.__emp_num = emp_num\n",
        "\n",
        "\n",
        "#Now create a class for the production worker as a subclass to the employee class.\n",
        "class ProductionWorker(Employee):\n",
        "  def __init__(self, name, emp_num, shift, hourly_rate_pay):\n",
        "    #reference attributes from employee and add new ones\n",
        "    super().__init__(name, emp_num)\n",
        "    self.__shift = shift\n",
        "    self.__hourly_rate_pay = hourly_rate_pay\n",
        "\n",
        "    #Get the shift attribute\n",
        "  def get_shift(self):\n",
        "    return self.__shift\n",
        "\n",
        "    #Get the hourly rate pay attribute\n",
        "  def get_hourly_rate_pay(self):\n",
        "    return self.__hourly_rate_pay\n",
        "\n",
        "    #set the shift\n",
        "  def set_shift(self, shift):\n",
        "    self.__shift = shift\n",
        "\n",
        "    #set the hourly rate pay\n",
        "  def set_hourly_rate_pay(self, hourly_rate_pay):\n",
        "    self.__hourly_rate_pay = hourly_rate_pay\n",
        "\n",
        "#Create a funtion about employee details\n",
        "def main():\n",
        "  #Get info from employee\n",
        "  name = input(\"Enter employee name: \")\n",
        "  emp_num = input(\"Enter employee number: \")\n",
        "  shift = int(input(\"Enter shift number (1 for day, 2 for night): \"))\n",
        "  hourly_rate_pay = float(input(\"Enter hourly rate pay: \"))\n",
        "\n",
        "  #Create the object\n",
        "  production_worker = ProductionWorker(name, emp_num, shift, hourly_rate_pay)\n",
        "\n",
        "  #Display everything about the employees\n",
        "  print(\"\\nEmployee Details: \")\n",
        "  print(\"Name:\", production_worker.get_name())\n",
        "  print(\"Employee Number:\", production_worker.get_emp_num())\n",
        "  print(\"Shift:\", \"Day\" if production_worker.get_shift() == 1 else \"Night\")\n",
        "  print(\"Hourly Rate Pay:\", production_worker.get_hourly_rate_pay())\n",
        "\n",
        "\n",
        "main()\n",
        "\n"
      ]
    },
    {
      "cell_type": "markdown",
      "source": [
        "##2- Person and customer:\n",
        "#Write a class named Person with data attributes for a person’s name, address, and telephone number. Next, write a class named Customer that is a subclass of the Person class. The Customer class should have a data attribute for a customer number, and a Boolean data attribute indicating whether the customer wishes to be on a mailing list. Demonstrate an instance of the Customer class in a simple program."
      ],
      "metadata": {
        "id": "nf-_-1Z5MEuR"
      }
    },
    {
      "cell_type": "code",
      "source": [
        "class Person():\n",
        "  #Initialize data for the class person\n",
        "  def __init__(self, name, address, phone_num):\n",
        "    self.name = name\n",
        "    self.address = address\n",
        "    self.phone_num = phone_num\n",
        "\n",
        "#create the other class Customer as a subclass\n",
        "class Customer(Person):\n",
        "  #create the new attributes but show the old ones as well\n",
        "  def __init__(self, name, address, phone_num, custo_num, mailing_list):\n",
        "    super().__init__(name, address, phone_num)\n",
        "\n",
        "    #add the new ones here\n",
        "    self.custo_num = custo_num\n",
        "    self.mailing_list = mailing_list\n",
        "\n",
        "#create a function that gives details about the customer\n",
        "name = input(\"What's your name?: \")\n",
        "address = input(\"What's your address? \")\n",
        "phone_num = input(\"What's your number?: \")\n",
        "custo_num = input(\"What's your customer's number?: \")\n",
        "\n",
        "#Determine whether they'd like to join a mailing list\n",
        "mailing_list = input(\"Would you like to join our mail list? (yes/no): \",).lower() == 'yes'\n",
        "\n",
        "#Make a customer object\n",
        "customer = Customer(name, address, phone_num, custo_num, mailing_list)\n",
        "\n",
        "#Show customer details\n",
        "print(\"\\nCustomer Details: \")\n",
        "print(\"Name:\", customer.name)\n",
        "print(\"Address:\", customer.address)\n",
        "print(\"Phone Number:\",customer.phone_num)\n",
        "print(\"Customer Number:\", customer.custo_num)\n",
        "print(\"On mailing list?:\", \"Yes\" if customer.mailing_list else \"no\")\n",
        "\n",
        "\n",
        "main\n",
        "\n",
        "\n"
      ],
      "metadata": {
        "colab": {
          "base_uri": "https://localhost:8080/"
        },
        "id": "IO4tFZi_M2HQ",
        "outputId": "fb228edb-c020-4546-cb24-02fb72117c02"
      },
      "execution_count": 29,
      "outputs": [
        {
          "output_type": "stream",
          "name": "stdout",
          "text": [
            "What's your name?: isaiah\n",
            "What's your address? 247 chicago ave\n",
            "What's your number?: 517-898-8987\n",
            "What's your customer's number?: 517-344-3443\n",
            "Would you like to join our mail list? (yes/no): yes\n",
            "\n",
            "Customer Details: \n",
            "Name: isaiah\n",
            "Address: 247 chicago ave\n",
            "Phone Number: 517-898-8987\n",
            "Customer Number: 517-344-3443\n",
            "On mailing list?: Yes\n"
          ]
        },
        {
          "output_type": "execute_result",
          "data": {
            "text/plain": [
              "<function __main__.main()>"
            ]
          },
          "metadata": {},
          "execution_count": 29
        }
      ]
    }
  ]
}