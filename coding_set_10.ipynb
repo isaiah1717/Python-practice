{
  "nbformat": 4,
  "nbformat_minor": 0,
  "metadata": {
    "colab": {
      "provenance": [],
      "authorship_tag": "ABX9TyPRoGzKgS1U6bxLScG5GVZ+",
      "include_colab_link": true
    },
    "kernelspec": {
      "name": "python3",
      "display_name": "Python 3"
    },
    "language_info": {
      "name": "python"
    }
  },
  "cells": [
    {
      "cell_type": "markdown",
      "metadata": {
        "id": "view-in-github",
        "colab_type": "text"
      },
      "source": [
        "<a href=\"https://colab.research.google.com/github/isaiah1717/Python-practice/blob/main/coding_set_10.ipynb\" target=\"_parent\"><img src=\"https://colab.research.google.com/assets/colab-badge.svg\" alt=\"Open In Colab\"/></a>"
      ]
    },
    {
      "cell_type": "markdown",
      "source": [
        "#programming Exercise\n",
        "##1- Pet Class:\n",
        "#Write a class named pet and list attributes of the pet."
      ],
      "metadata": {
        "id": "YOf9_j24PIgO"
      }
    },
    {
      "cell_type": "code",
      "execution_count": 9,
      "metadata": {
        "colab": {
          "base_uri": "https://localhost:8080/"
        },
        "id": "GVOaVB6kO9lG",
        "outputId": "07b02d86-98ea-40e1-9d61-446f228a744d"
      },
      "outputs": [
        {
          "output_type": "stream",
          "name": "stdout",
          "text": [
            "Enter your pet's name: cora\n",
            "Enter the type of animal you have.: dog\n",
            "Enter your pet's age.: 1\n",
            "\n",
            "Pet Information: \n",
            "Name: cora\n",
            "Animal type: dog\n",
            "Age: 1\n"
          ]
        }
      ],
      "source": [
        "#create a class for the Pets\n",
        "class Pets:\n",
        " #input the initialization to create the attributes\n",
        "  def __init__ (self, name, animal_type, age):\n",
        "    self.__name = name\n",
        "    self.__animal_type = animal_type\n",
        "    self.__age = age\n",
        "\n",
        "  #create the name attribute\n",
        "  def set_name(self, name):\n",
        "    self.__name = name\n",
        "\n",
        "  #create the animal type attribute\n",
        "  def set_animal_type(self, animal_type):\n",
        "    self.__animal_type = animal_type\n",
        "\n",
        "  #create the age attribute\n",
        "  def set_age(self, age):\n",
        "    self.__age = age\n",
        "\n",
        "  #retrieve the name attribute\n",
        "  def get_name(self):\n",
        "    return self.__name\n",
        "\n",
        "  #retrieve the animal type\n",
        "  def get_animal_type(self):\n",
        "    return self.__animal_type\n",
        "\n",
        "  #retrive the age attribute\n",
        "  def get_age(self):\n",
        "    return self.__age\n",
        "\n",
        "#put in info to get user details\n",
        "name = input(\"Enter your pet's name: \")\n",
        "animal_type = input(\"Enter the type of animal you have.: \")\n",
        "age = input(\"Enter your pet's age.: \")\n",
        "\n",
        "#create the pet object\n",
        "user_inp = Pets(name, animal_type, age)\n",
        "\n",
        "#show the pet's info\n",
        "print(\"\\nPet Information: \")\n",
        "print(f\"Name: {user_inp.get_name()}\")\n",
        "print(f\"Animal type: {user_inp.get_animal_type()}\")\n",
        "print(f\"Age: {user_inp.get_age()}\")\n",
        "\n"
      ]
    },
    {
      "cell_type": "markdown",
      "source": [
        "#2\n",
        "#Car class-\n",
        "#Write a class named car that has the following attributes..."
      ],
      "metadata": {
        "id": "nN0pE_BRMtTR"
      }
    },
    {
      "cell_type": "code",
      "source": [
        "#To start begin by creating the class for cars\n",
        "class Car:\n",
        "  #begin the initiatization process\n",
        "  def __init__(self, year_model, make):\n",
        "    self.__year_model = year_model\n",
        "    self.__make = make\n",
        "    self.__speed = 0\n",
        "\n",
        "  #Input the accelerate speed\n",
        "  def accelerate(self):\n",
        "    self.__speed += 5\n",
        "\n",
        "  #allow the brake to reduce speed\n",
        "  def brake(self):\n",
        "    self.__speed -= 5\n",
        "    if self.__speed < 0:\n",
        "      self.__speed = 0\n",
        "\n",
        "  #get the current speed\n",
        "  def get_speed(self):\n",
        "    return self.__speed\n",
        "\n",
        "#Test everything we did ^\n",
        "def main():\n",
        "  #create the car object\n",
        "  user_car = Car(2013, \"Mercedes\")\n",
        "\n",
        "  #call the accelerator 5 times\n",
        "  print(\"Accelerating by \")\n",
        "  for _ in range(5):\n",
        "    user_car.accelerate()\n",
        "    print(\"Current speed:\", user_car.get_speed())\n",
        "\n",
        "  #Slow the car down\n",
        "  print(\"\\nBraking\")\n",
        "  for _ in range(5):\n",
        "    user_car.brake()\n",
        "    print(\"current speed: \", user_car.get_speed())\n",
        "\n",
        "if __name__ == \"__main__\":\n",
        "  main()\n",
        "\n",
        "\n",
        "\n"
      ],
      "metadata": {
        "colab": {
          "base_uri": "https://localhost:8080/"
        },
        "id": "s_ZUrpICM6p3",
        "outputId": "cd14d2cc-4ded-4c72-b8dc-4a7ac96326b3"
      },
      "execution_count": 10,
      "outputs": [
        {
          "output_type": "stream",
          "name": "stdout",
          "text": [
            "Accelerating by \n",
            "Current speed: 5\n",
            "Current speed: 10\n",
            "Current speed: 15\n",
            "Current speed: 20\n",
            "Current speed: 25\n",
            "\n",
            "Braking\n",
            "current speed:  20\n",
            "current speed:  15\n",
            "current speed:  10\n",
            "current speed:  5\n",
            "current speed:  0\n"
          ]
        }
      ]
    }
  ]
}