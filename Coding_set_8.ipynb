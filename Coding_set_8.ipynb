{
  "nbformat": 4,
  "nbformat_minor": 0,
  "metadata": {
    "colab": {
      "provenance": [],
      "authorship_tag": "ABX9TyMSseeVZ0MMXl9Y/sadsHcp",
      "include_colab_link": true
    },
    "kernelspec": {
      "name": "python3",
      "display_name": "Python 3"
    },
    "language_info": {
      "name": "python"
    }
  },
  "cells": [
    {
      "cell_type": "markdown",
      "metadata": {
        "id": "view-in-github",
        "colab_type": "text"
      },
      "source": [
        "<a href=\"https://colab.research.google.com/github/isaiah1717/Python-practice/blob/main/Coding_set_8.ipynb\" target=\"_parent\"><img src=\"https://colab.research.google.com/assets/colab-badge.svg\" alt=\"Open In Colab\"/></a>"
      ]
    },
    {
      "cell_type": "markdown",
      "source": [
        "#Algortihm exercise"
      ],
      "metadata": {
        "id": "IjK1d46cOL9F"
      }
    },
    {
      "cell_type": "markdown",
      "source": [
        "##3: Write a loop that counts the number of digits that appear in the string referenced by mystring."
      ],
      "metadata": {
        "id": "qU769CmxOQr-"
      }
    },
    {
      "cell_type": "code",
      "execution_count": 21,
      "metadata": {
        "id": "Ze8-cECWuXk_",
        "colab": {
          "base_uri": "https://localhost:8080/"
        },
        "outputId": "2040d8f4-e409-4995-a7a5-2c580949d782"
      },
      "outputs": [
        {
          "output_type": "stream",
          "name": "stdout",
          "text": [
            "Enter any number: 22\n",
            " '22' has 2 digits!\n"
          ]
        }
      ],
      "source": [
        "#create the function\n",
        "def main():\n",
        "  #have the user create the string\n",
        "  my_string = input('Enter any number: ')\n",
        "  #make the loop that counts the number of digits in string\n",
        "  if my_string.isdigit():\n",
        "    print(f\" '{my_string}' has {len(my_string)} digits!\")\n",
        "  else:\n",
        "    print('This has alphabet letters in it')\n",
        "\n",
        "main()\n",
        ""
      ]
    },
    {
      "cell_type": "markdown",
      "source": [
        "##6: Write code that makes a copy of a string with all occurrences of the lowercase letter 't' converted to uppercase."
      ],
      "metadata": {
        "id": "B3WRAglLWM2K"
      }
    },
    {
      "cell_type": "code",
      "source": [
        "#You know we gotta start with the function!\n",
        "def main():\n",
        "  #create a variable\n",
        "  burberry = 'trenchcoat'\n",
        "\n",
        "  #copy the string and convert any 't' to a \"T\"\n",
        "  print(burberry.replace('t','T'))\n",
        "\n",
        "main()\n",
        "\n"
      ],
      "metadata": {
        "colab": {
          "base_uri": "https://localhost:8080/"
        },
        "id": "jAcZxNjyXZxq",
        "outputId": "06929772-d891-41ab-a4f7-90cd1dc08893"
      },
      "execution_count": 49,
      "outputs": [
        {
          "output_type": "stream",
          "name": "stdout",
          "text": [
            "TrenchcoaT\n"
          ]
        }
      ]
    },
    {
      "cell_type": "markdown",
      "source": [
        "#Programming exercise\n"
      ],
      "metadata": {
        "id": "qLBFvdtOcf3s"
      }
    },
    {
      "cell_type": "markdown",
      "source": [
        "##1\n",
        "#Initials: Write a program that gets a string containing a person’s first, middle, and last names, and displays their first, middle, and last initials. For example, if the user enters John William Smith, the program should display J. W. S."
      ],
      "metadata": {
        "id": "h7abc5gSckFf"
      }
    },
    {
      "cell_type": "code",
      "source": [
        "#create the function that'll display someone's initials\n",
        "def main():\n",
        "  #Take the first, middle, and last name initials and display the initial\n",
        "  full_name = 'Isaiah Dewayne Jackson'\n",
        "  print(full_name[0:1], full_name[7:8], full_name[14:16])\n",
        "\n",
        "main()\n",
        "\n"
      ],
      "metadata": {
        "colab": {
          "base_uri": "https://localhost:8080/"
        },
        "id": "QJF6TJq8c6QY",
        "outputId": "457a6e7d-f163-46c2-a9f3-0e4519114b4d"
      },
      "execution_count": 18,
      "outputs": [
        {
          "output_type": "stream",
          "name": "stdout",
          "text": [
            "I D  J\n"
          ]
        }
      ]
    },
    {
      "cell_type": "markdown",
      "source": [
        "##2: Write a program that asks the user to enter a series of single-digit numbers with nothing separating them. The program should display the sum of all the single digit numbers in the string. For example, if the user enters 2514, the method should return 12, which is the sum of 2, 5, 1, and 4."
      ],
      "metadata": {
        "id": "9ukVgMX3Krtb"
      }
    },
    {
      "cell_type": "code",
      "source": [
        "#Go ahead and create the function\n",
        "def main():\n",
        "  #have the user put in numbers\n",
        "  user_inp = input(\"Enter a series of numbers: \")\n",
        "\n",
        "  #get the numbers to add\n",
        "  user_inp2 = sum(int(char) for char in user_inp if char.isdigit())\n",
        "\n",
        "  #display the sum of the numbers the user entered\n",
        "  print(f'{user_inp2} is the result of your series of numbers')\n",
        "\n",
        "main()\n"
      ],
      "metadata": {
        "colab": {
          "base_uri": "https://localhost:8080/"
        },
        "id": "wklVuXxwLBnb",
        "outputId": "4fda1d55-2310-499f-c68f-9ae5e531382c"
      },
      "execution_count": 4,
      "outputs": [
        {
          "output_type": "stream",
          "name": "stdout",
          "text": [
            "Enter a series of numbers: 467\n",
            "17 is the result of your series of numbers\n"
          ]
        }
      ]
    },
    {
      "cell_type": "markdown",
      "source": [
        "##3\n",
        "#Date printer Write a program that reads a string from the user containing a date in the form mm/dd/yyyy. It should print the date in the format March 12, 2018."
      ],
      "metadata": {
        "id": "MlbMkGwJJeR7"
      }
    },
    {
      "cell_type": "code",
      "source": [
        "#Function time\n",
        "def main():\n",
        "  #assign numbers to each month\n",
        "  month_year = {1:'January', 2: 'February', 3: 'March', 4: 'April', 5: 'May', 6: 'June', 7: 'July', 8: 'August', 9: 'September', 10: 'October', 11: 'Novemeber', 12:'December'}\n",
        "\n",
        "  #create the format\n",
        "  format = int(input(\"enter a date in MM/DD/YY format: \"))\n",
        "  month = int(format/1000000)\n",
        "  date = int(format/10000)\n",
        "  format_date = int(date%100)\n",
        "  year = int(format%10000)\n",
        "  for x, y in month_year.items():\n",
        "    if month == y:\n",
        "      y = month_year[x]\n",
        "  print(y,format_date,year)\n",
        "\n",
        "main()\n"
      ],
      "metadata": {
        "colab": {
          "base_uri": "https://localhost:8080/"
        },
        "id": "Hmb0gPDeKmcL",
        "outputId": "cd138d71-3e5c-4d18-9123-aac183755d13"
      },
      "execution_count": 15,
      "outputs": [
        {
          "output_type": "stream",
          "name": "stdout",
          "text": [
            "enter a date in MM/DD/YY format: 12052023\n",
            "December 5 2023\n"
          ]
        }
      ]
    },
    {
      "cell_type": "markdown",
      "source": [
        "##10- Most frequent character:\n",
        "#Write a program that lets the user enter a string and displays the character that appears most frequently in the string."
      ],
      "metadata": {
        "id": "jLVY3KEATHi8"
      }
    },
    {
      "cell_type": "code",
      "source": [
        "#function\n",
        "def main():\n",
        "  user_inp = input('Enter what youd did today: ')\n",
        "  count = {}\n",
        "\n",
        "  for letter in user_inp:\n",
        "    if letter in count:\n",
        "      count[letter] += 1\n",
        "    else:\n",
        "      count[letter] = 1\n",
        "\n",
        "  print('Character appearing the most is ...')\n",
        "  for key, value in count.items():\n",
        "    print(f'{key} occurs {value} times')\n",
        "\n",
        "main()"
      ],
      "metadata": {
        "colab": {
          "base_uri": "https://localhost:8080/"
        },
        "id": "QLiYuh7CUaqJ",
        "outputId": "ccb1c636-254a-4786-9f8e-b511e70d0a5c"
      },
      "execution_count": 18,
      "outputs": [
        {
          "output_type": "stream",
          "name": "stdout",
          "text": [
            "Enter what youd did today: i woke up and went to the store to get soap and food to make breakfast\n",
            "Character appearing the most is ...\n",
            "i occurs 1 times\n",
            "  occurs 15 times\n",
            "w occurs 2 times\n",
            "o occurs 8 times\n",
            "k occurs 3 times\n",
            "e occurs 7 times\n",
            "u occurs 1 times\n",
            "p occurs 2 times\n",
            "a occurs 6 times\n",
            "n occurs 3 times\n",
            "d occurs 3 times\n",
            "t occurs 8 times\n",
            "h occurs 1 times\n",
            "s occurs 3 times\n",
            "r occurs 2 times\n",
            "g occurs 1 times\n",
            "f occurs 2 times\n",
            "m occurs 1 times\n",
            "b occurs 1 times\n"
          ]
        }
      ]
    }
  ]
}