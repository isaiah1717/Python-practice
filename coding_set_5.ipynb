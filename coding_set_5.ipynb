{
  "nbformat": 4,
  "nbformat_minor": 0,
  "metadata": {
    "colab": {
      "provenance": [],
      "include_colab_link": true
    },
    "kernelspec": {
      "name": "python3",
      "display_name": "Python 3"
    },
    "language_info": {
      "name": "python"
    }
  },
  "cells": [
    {
      "cell_type": "markdown",
      "metadata": {
        "id": "view-in-github",
        "colab_type": "text"
      },
      "source": [
        "<a href=\"https://colab.research.google.com/github/isaiah1717/Python-practice/blob/main/coding_set_5.ipynb\" target=\"_parent\"><img src=\"https://colab.research.google.com/assets/colab-badge.svg\" alt=\"Open In Colab\"/></a>"
      ]
    },
    {
      "cell_type": "markdown",
      "source": [
        "#write a function named times_ten\n",
        "#display the product as a argument\n",
        "#times 10"
      ],
      "metadata": {
        "id": "UB4GUd0DLon6"
      }
    },
    {
      "cell_type": "code",
      "execution_count": null,
      "metadata": {
        "colab": {
          "base_uri": "https://localhost:8080/"
        },
        "id": "P6tTgApsAcR2",
        "outputId": "40e01ae5-0019-43e8-c2f8-b4a36e970b4d"
      },
      "outputs": [
        {
          "output_type": "stream",
          "name": "stdout",
          "text": [
            "enter a number: 4\n",
            "40\n"
          ]
        }
      ],
      "source": [
        "def times_ten(number):\n",
        "  result = number * 10\n",
        "\n",
        "\n",
        "  return result\n",
        "\n",
        "user_inp = int(input('enter a number: '))\n",
        "user_inp = times_ten(user_inp)\n",
        "print(user_inp)"
      ]
    },
    {
      "cell_type": "markdown",
      "source": [
        "#. Examine the following function header, then write a statement that calls the function passing 12 as an argument.\n",
        "def show_value(quantity):"
      ],
      "metadata": {
        "id": "sEDojM10PhC_"
      }
    },
    {
      "cell_type": "code",
      "source": [
        "def show_value(quantity):\n",
        "  print(quantity)\n",
        "\n",
        "show_value(12)\n",
        "\n",
        "\n",
        "\n"
      ],
      "metadata": {
        "id": "td6Fis22Ps1m",
        "colab": {
          "base_uri": "https://localhost:8080/"
        },
        "outputId": "5f3e5a4f-dc84-47a6-923f-caf6d59fd390"
      },
      "execution_count": null,
      "outputs": [
        {
          "output_type": "stream",
          "name": "stdout",
          "text": [
            "12\n"
          ]
        }
      ]
    },
    {
      "cell_type": "markdown",
      "source": [
        "#Programming exercises"
      ],
      "metadata": {
        "id": "eCKINS7qeRhH"
      }
    },
    {
      "cell_type": "markdown",
      "source": [
        "#1\n",
        "#kilometer converter\n",
        "#miles = kilometers x 0.6214"
      ],
      "metadata": {
        "id": "i8BIgpT5aO6J"
      }
    },
    {
      "cell_type": "code",
      "source": [
        "def conversion():\n",
        "  kilometers = int(input('enter a distance in km: '))\n",
        "  find_miles = kilometers * 0.6214\n",
        "  print(find_miles)\n",
        "conversion()"
      ],
      "metadata": {
        "colab": {
          "base_uri": "https://localhost:8080/"
        },
        "id": "N5SXA2OEaStd",
        "outputId": "deed3a62-a6d6-49bc-fc6c-2d7a20d40589"
      },
      "execution_count": null,
      "outputs": [
        {
          "output_type": "stream",
          "name": "stdout",
          "text": [
            "enter a distance in km: 1\n",
            "0.6214\n"
          ]
        }
      ]
    },
    {
      "cell_type": "markdown",
      "source": [
        "#17\n",
        "#prime numbers"
      ],
      "metadata": {
        "id": "V-Vzt5zHg8l9"
      }
    },
    {
      "cell_type": "code",
      "source": [
        "def is_prime(num):\n",
        "  if num <= 1:\n",
        "    return False\n",
        "  for I in range (2,num):\n",
        "    if num % I == 0:\n",
        "      return False\n",
        "  else:\n",
        "    return True\n",
        "\n",
        "user_inp = int(input(\"enter any number: \"))\n",
        "is_prime(user_inp)\n",
        "\n"
      ],
      "metadata": {
        "colab": {
          "base_uri": "https://localhost:8080/"
        },
        "id": "5rUzUsGLhHuH",
        "outputId": "7fdc8914-8c28-4513-8d5f-0a239f276b89"
      },
      "execution_count": null,
      "outputs": [
        {
          "name": "stdout",
          "output_type": "stream",
          "text": [
            "enter any number: 3\n"
          ]
        },
        {
          "output_type": "execute_result",
          "data": {
            "text/plain": [
              "True"
            ]
          },
          "metadata": {},
          "execution_count": 62
        }
      ]
    },
    {
      "cell_type": "markdown",
      "source": [
        "#18\n",
        "#prime number list"
      ],
      "metadata": {
        "id": "FCTO-Yr96aOR"
      }
    },
    {
      "cell_type": "code",
      "source": [
        "def is_prime(num):\n",
        "  if num <= 1:\n",
        "    return False\n",
        "  for I in range (2,num):\n",
        "    if num % I == 0:\n",
        "      return False\n",
        "  else:\n",
        "    return True\n",
        "\n",
        "user_inp = int(input(\"enter any number: \"))\n",
        "\n",
        "if is_prime(user_inp):\n",
        "  print(f'{user_inp} is a prime number. ')\n",
        "else:\n",
        "  print(f'{user_inp} is not a prime number. ')\n",
        "print(\"Here's a list of prime numbers 1-100: \")\n",
        "for num in range(1,101):\n",
        "  if is_prime(num):\n",
        "    print(num)"
      ],
      "metadata": {
        "colab": {
          "base_uri": "https://localhost:8080/"
        },
        "id": "k5ZBRr2F6gut",
        "outputId": "dbb75f86-809a-4392-e471-dedca834c271"
      },
      "execution_count": null,
      "outputs": [
        {
          "output_type": "stream",
          "name": "stdout",
          "text": [
            "enter any number: 7\n",
            "7 is a prime number. \n",
            "Here's a list of prime numbers 1-100: \n",
            "2\n",
            "3\n",
            "5\n",
            "7\n",
            "11\n",
            "13\n",
            "17\n",
            "19\n",
            "23\n",
            "29\n",
            "31\n",
            "37\n",
            "41\n",
            "43\n",
            "47\n",
            "53\n",
            "59\n",
            "61\n",
            "67\n",
            "71\n",
            "73\n",
            "79\n",
            "83\n",
            "89\n",
            "97\n"
          ]
        }
      ]
    },
    {
      "cell_type": "markdown",
      "source": [
        "#4\n",
        "#automobile cost"
      ],
      "metadata": {
        "id": "wLQogkvdLzt4"
      }
    },
    {
      "cell_type": "code",
      "source": [
        "def monthly_cost(loan_payment, insurance, gas, oil, tires, maintenance):\n",
        "  sum = loan_payment + insurance + gas + oil + tires + maintenance\n",
        "\n",
        "  return sum\n",
        "\n",
        "def annual_cost(monthly_cost):\n",
        "  annual_cost = monthly_cost * 12\n",
        "\n",
        "  return annual_cost\n",
        "\n",
        "loan_payment = int(input(\"How much do you pay on your car note?: $ \"))\n",
        "insurance = int(input(\"How much do you pay for car insurance?: $\"))\n",
        "gas = int(input(\"How much do you spend in gas per month? $\"))\n",
        "oil = int(input(\"How much did your oil change cost? $\"))\n",
        "tires = int(input(\"how much did your tires cost you:? $\" ))\n",
        "maintenance = int(input(\"how much was maintenance? $\"))\n",
        "\n",
        "user_monthly = monthly_cost(loan_payment, insurance, gas, oil, tires, maintenance)\n",
        "user_annually = annual_cost(user_monthly)\n",
        "\n",
        "print(f'${user_monthly} was your monthly autombile cost. ')\n",
        "print(f'${user_annually} is your annual cost')\n"
      ],
      "metadata": {
        "colab": {
          "base_uri": "https://localhost:8080/"
        },
        "id": "xkhOZ8GML9hi",
        "outputId": "02521251-54b7-47fc-d006-f05c6cb6dc26"
      },
      "execution_count": null,
      "outputs": [
        {
          "output_type": "stream",
          "name": "stdout",
          "text": [
            "How much do you pay on your car note?: $ 1\n",
            "How much do you pay for car insurance?: $1\n",
            "How much do you spend in gas per month? $1\n",
            "How much did your oil change cost? $1\n",
            "how much did your tires cost you:? $1\n",
            "how much was maintenance? $1\n",
            "$6 was your monthly autombile cost. \n",
            "$72 is your annual cost\n"
          ]
        }
      ]
    }
  ]
}