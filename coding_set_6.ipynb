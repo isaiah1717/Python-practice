{
  "nbformat": 4,
  "nbformat_minor": 0,
  "metadata": {
    "colab": {
      "provenance": [],
      "authorship_tag": "ABX9TyNDQkilYXi7e418GXwaTxVy",
      "include_colab_link": true
    },
    "kernelspec": {
      "name": "python3",
      "display_name": "Python 3"
    },
    "language_info": {
      "name": "python"
    }
  },
  "cells": [
    {
      "cell_type": "markdown",
      "metadata": {
        "id": "view-in-github",
        "colab_type": "text"
      },
      "source": [
        "<a href=\"https://colab.research.google.com/github/isaiah1717/Python-practice/blob/main/coding_set_6.ipynb\" target=\"_parent\"><img src=\"https://colab.research.google.com/assets/colab-badge.svg\" alt=\"Open In Colab\"/></a>"
      ]
    },
    {
      "cell_type": "markdown",
      "source": [
        "#Algorithm workbench\n"
      ],
      "metadata": {
        "id": "h6lgFSReUriR"
      }
    },
    {
      "cell_type": "markdown",
      "source": [
        "#1\n",
        "#Write a program that opens an output file\n",
        "#with file name my_name.txt file\n",
        "#write name to the file, then close it"
      ],
      "metadata": {
        "id": "zgS0vB0DU639"
      }
    },
    {
      "cell_type": "code",
      "source": [
        "#create an output file with file name, write name, then close\n",
        "def main():\n",
        "  #open a file named my_name.txt\n",
        "  outfile = open('my_name.txt', 'w' )\n",
        "\n",
        "  #write my name\n",
        "  outfile.write('Isaiah Jackson\\n')\n",
        "\n",
        "  #close the file\n",
        "  outfile.close()\n",
        "\n",
        "\n"
      ],
      "metadata": {
        "id": "f9IPQielVRAA"
      },
      "execution_count": null,
      "outputs": []
    },
    {
      "cell_type": "markdown",
      "source": [
        "#2\n",
        "#Write a program that opens the my_name.txt file that was created by the program\n",
        "#in problem 1, reads your name from the file, displays the name on the screen, then\n",
        "#closes the file."
      ],
      "metadata": {
        "id": "08O1yBNFmgxq"
      }
    },
    {
      "cell_type": "code",
      "source": [
        "#create an output file with file name, write name, then close\n",
        "def main():\n",
        "  #open a file named my_name.txt\n",
        "  outfile = open('my_name.txt', 'w' )\n",
        "\n",
        "  #write my name\n",
        "  name = \"Isaiah Jackson\"\n",
        "  outfile.write(name + '\\n')\n",
        "\n",
        "  #display the name on the screen\n",
        "  print(name)\n",
        "\n",
        "  #close the file\n",
        "  outfile.close()\n",
        "\n",
        "  #call the main function\n",
        "if __name__ == '__main__':\n",
        "    main()\n",
        "\n"
      ],
      "metadata": {
        "colab": {
          "base_uri": "https://localhost:8080/"
        },
        "id": "nzghl25Umi05",
        "outputId": "f6fa33b8-e9e2-498b-fa66-1b6c95c3f7f6"
      },
      "execution_count": null,
      "outputs": [
        {
          "output_type": "stream",
          "name": "stdout",
          "text": [
            "Isaiah Jackson\n"
          ]
        }
      ]
    },
    {
      "cell_type": "markdown",
      "source": [
        "# Programming exerxcise"
      ],
      "metadata": {
        "id": "NxeCl53aAaCw"
      }
    },
    {
      "cell_type": "markdown",
      "source": [
        "# #1 file display\n",
        "#Assume a file containing a series of integers is named numbers.txt and exists on the computers disk.\n",
        "#Write a program that displays all of the numbers in the file."
      ],
      "metadata": {
        "id": "FV22X0KT19cs"
      }
    },
    {
      "cell_type": "code",
      "source": [
        "#This program will display numbers inside of a file\n",
        "def main():\n",
        "  with open('numbers.txt', 'w') as outfile:\n",
        "    for number in range (11):\n",
        "      outfile.write(f'{number}\\n')\n",
        "\n",
        "#show the numbers in the file\n",
        "print('Numbers in file: ')\n",
        "with open ('numbers.txt', 'r') as infile:\n",
        "  for line in infile:\n",
        "    number = int(line.strip())\n",
        "    print(number)\n",
        "\n",
        "#call the main function\n",
        "if __name__ == '__main__':\n",
        "  main()"
      ],
      "metadata": {
        "colab": {
          "base_uri": "https://localhost:8080/"
        },
        "id": "diGaHs8RAgKx",
        "outputId": "beb82da3-1935-4a35-98d7-c12e1cb07f61"
      },
      "execution_count": null,
      "outputs": [
        {
          "output_type": "stream",
          "name": "stdout",
          "text": [
            "Numbers in file: \n",
            "0\n",
            "1\n",
            "2\n",
            "3\n",
            "4\n",
            "5\n",
            "6\n",
            "7\n",
            "8\n",
            "9\n",
            "10\n"
          ]
        }
      ]
    },
    {
      "cell_type": "markdown",
      "source": [
        "##6\n",
        "#Assume a file containing a series of integers is named numbers.txt and exists on the computer’s disk. Write a program that calculates the average of all the numbers stored in the file."
      ],
      "metadata": {
        "id": "jL8KBlt38k8a"
      }
    },
    {
      "cell_type": "code",
      "source": [
        "Create the function\n",
        "def main():\n",
        "  #open the numbers.txt. file\n",
        "  file = open('numbers.txt','r')\n",
        "  total = 0\n",
        "  line = file.readline()\n",
        "  lines = 0\n",
        "\n",
        "  while line != '':\n",
        "    lines += 1\n",
        "    number = int(line)\n",
        "    total += number\n",
        "    line = file.readline()\n",
        "\n",
        " #Show the average of the number\n",
        "  average = total / lines\n",
        "  print('average of the integers in file is:',average)\n",
        "  file.close()\n",
        "\n",
        "main()"
      ],
      "metadata": {
        "colab": {
          "base_uri": "https://localhost:8080/"
        },
        "id": "EqAyku6e8wrg",
        "outputId": "d0740df7-a6d9-4ad2-c4fa-ca10f4dff483"
      },
      "execution_count": null,
      "outputs": [
        {
          "output_type": "stream",
          "name": "stdout",
          "text": [
            "average of the integers in file is: 2.5555555555555554\n"
          ]
        }
      ]
    },
    {
      "cell_type": "markdown",
      "source": [
        "#9\n",
        "#Modify the program that you wrote for Exercise 6 so it handles the following exceptions:• It should handle any IOError exceptions that are raised when the file is opened and data is read from it. • It should handle any ValueError exceptions that are raised when the items that are read from the file are converted to a number."
      ],
      "metadata": {
        "id": "POzGbownGU_I"
      }
    },
    {
      "cell_type": "code",
      "source": [
        "#make main function\n",
        "def main():\n",
        "  try:\n",
        "      file = open('numbers.txt', 'r')\n",
        "      total = 0\n",
        "      line = file.readline()\n",
        "      lines = 0\n",
        "      while line!= \"\":\n",
        "         #test the code\n",
        "          try:\n",
        "              number = int(line)\n",
        "              total += number\n",
        "              lines += 1\n",
        "          except ValueError:\n",
        "              print(\"There appears to be an error in\", line, \"to an integer\")\n",
        "          line = file.readline()\n",
        "      average = total / lines\n",
        "      print(\"the average of the integer in fils is: \",average)\n",
        "  except IOError:\n",
        "      print(\"there was an error with opening and reading the file. \")\n",
        "\n",
        "main()\n",
        "\n",
        "\n"
      ],
      "metadata": {
        "colab": {
          "base_uri": "https://localhost:8080/"
        },
        "id": "8wPcKQwDGUN8",
        "outputId": "02a563cb-ee4e-4948-e783-b63ece547c1d"
      },
      "execution_count": null,
      "outputs": [
        {
          "output_type": "stream",
          "name": "stdout",
          "text": [
            "the average of the integer in fils is:  2.5555555555555554\n"
          ]
        }
      ]
    },
    {
      "cell_type": "markdown",
      "source": [
        "#2\n",
        "#Write a program that asks the user for the name of a file. The program should display onlythe first five lines of the file’s contents. If the file contains less than five lines, it should display the file’s entire contents."
      ],
      "metadata": {
        "id": "Vc3bZ32vyGUj"
      }
    },
    {
      "cell_type": "code",
      "source": [
        "#create function\n",
        "def main():\n",
        " #give the file a name\n",
        "  name = input(\"enter the name of the file: \")\n",
        "  file = open(name, 'r')\n",
        "  for x in range(5):\n",
        "    line = file.readline()\n",
        "    if line:\n",
        "      print(line)\n",
        "\n",
        "main()"
      ],
      "metadata": {
        "colab": {
          "base_uri": "https://localhost:8080/"
        },
        "id": "vRIxVewF7BOZ",
        "outputId": "4a665d8f-9bae-4725-b659-5b363bc98051"
      },
      "execution_count": null,
      "outputs": [
        {
          "output_type": "stream",
          "name": "stdout",
          "text": [
            "enter the name of the file: numbers.txt\n",
            "5\n",
            "\n",
            "8\n",
            "\n",
            "9\n",
            "\n",
            "2\n",
            "\n",
            "2\n",
            "\n"
          ]
        }
      ]
    }
  ]
}