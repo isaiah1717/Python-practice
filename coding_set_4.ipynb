{
  "cells": [
    {
      "cell_type": "markdown",
      "metadata": {
        "id": "view-in-github",
        "colab_type": "text"
      },
      "source": [
        "<a href=\"https://colab.research.google.com/github/isaiah1717/Python-practice/blob/main/coding_set_4.ipynb\" target=\"_parent\"><img src=\"https://colab.research.google.com/assets/colab-badge.svg\" alt=\"Open In Colab\"/></a>"
      ]
    },
    {
      "cell_type": "markdown",
      "metadata": {
        "id": "PvdsV4DZSLFH"
      },
      "source": [
        "#Write a while loop that lets the user enter a number. The number should be multiplied\n",
        "#by 10, and the result assigned to a variable named product. The loop should iterate as\n",
        "#long as product is less than 100.\n"
      ]
    },
    {
      "cell_type": "code",
      "execution_count": null,
      "metadata": {
        "colab": {
          "base_uri": "https://localhost:8080/"
        },
        "id": "UvbLUA76PHAl",
        "outputId": "0ade84c5-a2ee-4b30-82ea-a3a750e24ea8"
      },
      "outputs": [
        {
          "name": "stdout",
          "output_type": "stream",
          "text": [
            "enter a number: 5\n",
            "enter a number: 10\n"
          ]
        }
      ],
      "source": [
        "while True:\n",
        "    user_int = int(input('enter a number: '))\n",
        "    product = user_int * 10\n",
        "\n",
        "    if product > 99:\n",
        "      break\n",
        "\n"
      ]
    },
    {
      "cell_type": "code",
      "execution_count": null,
      "metadata": {
        "id": "8nXCyJ_RSkbX"
      },
      "outputs": [],
      "source": [
        "#2"
      ]
    },
    {
      "cell_type": "code",
      "execution_count": null,
      "metadata": {
        "id": "LoVZQ10FVI4_"
      },
      "outputs": [],
      "source": [
        "while True:\n",
        "  user_int1 = int(input('enter a number: '))\n",
        "  user_int2 = int(input('enter a number: '))\n",
        "  sum = user_int1 + user_int2\n",
        "  print(sum)\n",
        "  question = input('would you like to do this operation again, yes or no? ')\n",
        "  if question.lower() == 'yes':\n",
        "    continue\n",
        "  else:\n",
        "    break\n",
        "\n",
        "\n"
      ]
    },
    {
      "cell_type": "markdown",
      "metadata": {
        "id": "LBPomHRDBjf9"
      },
      "source": [
        "#programming exercises"
      ]
    },
    {
      "cell_type": "markdown",
      "metadata": {
        "id": "qZAW5ozuBltb"
      },
      "source": [
        "#1 Bug collector: how many bugs collected/day"
      ]
    },
    {
      "cell_type": "code",
      "execution_count": null,
      "metadata": {
        "colab": {
          "base_uri": "https://localhost:8080/"
        },
        "id": "AiyvgJ5YHzZ9",
        "outputId": "0bdc4df6-f170-4cb8-8d47-ed3e3dc8a04b"
      },
      "outputs": [
        {
          "name": "stdout",
          "output_type": "stream",
          "text": [
            "How many bugs did you find today? 4\n",
            "How many bugs did you find today? 4\n",
            "How many bugs did you find today? 4\n",
            "How many bugs did you find today? 4\n",
            "How many bugs did you find today? 4\n",
            "The total amount of bugs that were found  20\n"
          ]
        }
      ],
      "source": [
        "day_count = 0\n",
        "bug_count = 0\n",
        "while days <= 5:\n",
        "  user_inp1 = int(input('How many bugs did you find today? '))\n",
        "  bug_count = user_inp1 + bug_count\n",
        "  day_count = 1 + day_count\n",
        "  if day_count >= 5:\n",
        "    break\n",
        "print('The total amount of bugs that were found ', bug_count)\n",
        "\n",
        "\n",
        "\n",
        "\n",
        "\n",
        "\n",
        "\n",
        "\n",
        "\n",
        "\n"
      ]
    },
    {
      "cell_type": "code",
      "execution_count": null,
      "metadata": {
        "colab": {
          "base_uri": "https://localhost:8080/"
        },
        "id": "TcPSuP6WVmdB",
        "outputId": "9a6f455d-a0f3-4335-b05f-f1d45e139510"
      },
      "outputs": [
        {
          "name": "stdout",
          "output_type": "stream",
          "text": [
            "How fast is the car going? 45\n",
            "How long did the car travel for? 7\n",
            "HOUR\tDISTANCE TRAVELED\n",
            "------------------\n",
            "1 \t 45\n",
            "2 \t 90\n",
            "3 \t 135\n",
            "4 \t 180\n",
            "5 \t 225\n",
            "6 \t 270\n",
            "7 \t 315\n"
          ]
        }
      ],
      "source": [
        "user_inp1 = int(input('How fast is the car going? '))\n",
        "user_inp2 = int(input('How long did the car travel for? '))\n",
        "print('HOUR\\tDISTANCE TRAVELED')\n",
        "print('------------------')\n",
        "for hour in range(1,user_inp2 + 1 ):\n",
        "  distance = user_inp1 * hour\n",
        "  print(f'{hour} \\t {distance}')\n",
        "\n"
      ]
    },
    {
      "cell_type": "markdown",
      "metadata": {
        "id": "4thE4Gk2cx-3"
      },
      "source": [
        "#11 Weight loss"
      ]
    },
    {
      "cell_type": "code",
      "execution_count": null,
      "metadata": {
        "colab": {
          "background_save": true,
          "base_uri": "https://localhost:8080/"
        },
        "id": "Ozl7u14jc6Kx",
        "outputId": "551ca57b-93a0-445f-e41e-5c9f3f9c4e1b"
      },
      "outputs": [
        {
          "name": "stdout",
          "output_type": "stream",
          "text": [
            "LAST MONTH'S WEIGHT\tEND OF THE MONTH WEIGHT\n",
            "------------------------------------------------\n",
            "you lost 4 lbs this month! your new weight: 496 lbs\n"
          ]
        }
      ],
      "source": [
        "while True:\n",
        "  user_inp1 = int(input('Enter your current weight: '))\n",
        "  user_inp2 = int(input(\"Enter how many calories you've burnt today: \" ))\n",
        "\n",
        "  print(\"LAST MONTH'S WEIGHT\\tEND OF THE MONTH WEIGHT\")\n",
        "  print('------------------------------------------------')\n",
        "  for weight in range(user_inp1, user_inp1 - 7, -1):\n",
        "    calories_cut = 500\n",
        "\n",
        "    if calories_cut == 500:\n",
        "      user_inp1 -= 4\n",
        "      print(f\"you lost 4 lbs this month! your new weight: {user_inp1} lbs\")\n",
        "\n",
        "    keep_going_or_stop = input(\"Would you like to continue (yes/no)? \"). lower()\n",
        "    if keep_going_or_stop == 'yes':\n",
        "      break\n",
        "\n"
      ]
    },
    {
      "cell_type": "markdown",
      "source": [
        "#14 write a program that uses nested loops to draw this pattern"
      ],
      "metadata": {
        "id": "-GkEIJPaI-fw"
      }
    },
    {
      "cell_type": "code",
      "source": [
        "for i in range(7, 0, -1):\n",
        "    for j in range(i):\n",
        "        print(\"*\", end=\"\")\n",
        "    print()\n"
      ],
      "metadata": {
        "colab": {
          "base_uri": "https://localhost:8080/"
        },
        "id": "bun94LQOKweW",
        "outputId": "ab7e0ae1-7cba-4901-ca64-b2c64c0e2f95"
      },
      "execution_count": null,
      "outputs": [
        {
          "output_type": "stream",
          "name": "stdout",
          "text": [
            "*******\n",
            "******\n",
            "*****\n",
            "****\n",
            "***\n",
            "**\n",
            "*\n"
          ]
        }
      ]
    }
  ],
  "metadata": {
    "colab": {
      "provenance": [],
      "authorship_tag": "ABX9TyMJuZlAFUIPj7euCVGErNLn",
      "include_colab_link": true
    },
    "kernelspec": {
      "display_name": "Python 3",
      "name": "python3"
    },
    "language_info": {
      "name": "python"
    }
  },
  "nbformat": 4,
  "nbformat_minor": 0
}