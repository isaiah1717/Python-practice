{
  "nbformat": 4,
  "nbformat_minor": 0,
  "metadata": {
    "colab": {
      "provenance": [],
      "authorship_tag": "ABX9TyMghYgh44YKcKFbzwc2xSHK",
      "include_colab_link": true
    },
    "kernelspec": {
      "name": "python3",
      "display_name": "Python 3"
    },
    "language_info": {
      "name": "python"
    }
  },
  "cells": [
    {
      "cell_type": "markdown",
      "metadata": {
        "id": "view-in-github",
        "colab_type": "text"
      },
      "source": [
        "<a href=\"https://colab.research.google.com/github/isaiah1717/Python-practice/blob/main/Coding_set_9.ipynb\" target=\"_parent\"><img src=\"https://colab.research.google.com/assets/colab-badge.svg\" alt=\"Open In Colab\"/></a>"
      ]
    },
    {
      "cell_type": "markdown",
      "source": [
        "#PROGRAMMING EXERCISE\n",
        "##1: Course Information\n",
        "#Write a program that creates a dictionary containing course numbers and the room numbers of the rooms where the courses meet. The dictionary should have the following keyvalue pairs:\n",
        "\n",
        "#The program should also create a dictionary containing course numbers and the names of the instructors that teach each course. The dictionary should have the following key-value pairs:\n",
        "\n",
        "#The program should also create a dictionary containing course numbers and the meeting times of each course. The dictionary should have the following key-value pairs:\n",
        "\n",
        "#The program should let the user enter a course number, then it should display the course’s room number, instructor, and meeting time."
      ],
      "metadata": {
        "id": "eUzw7dQ5ADSQ"
      }
    },
    {
      "cell_type": "code",
      "source": [
        "#Create the function for the program\n",
        "def main():\n",
        "  #Create a dictionary for rooms\n",
        "  rooms = {'CS101':3004,  'CS102': 4501,\n",
        "           'CS103': 1244, 'NT110':1244,\n",
        "           'CM241':1411}\n",
        "\n",
        "\n",
        "  #create a dictionary for instructors\n",
        "  instructors = {'CS101':'Haynes',  'CS102': 'Alvarado',\n",
        "                 'CS103':'Rich',  'NT110':'Burke',\n",
        "                 'CM241':'Lee'}\n",
        "\n",
        "  #Create a dictionary for time of classes\n",
        "  times = {'CS101':'8:00 am', 'CS102':'9:00 am',\n",
        "           'CS103':'10:00 am',  'NT110':'11:00 am',\n",
        "           'CM241': '1:00 pm'}\n",
        "\n",
        "  #Create an input for the user to find course\n",
        "  course = input('Enter your course: ')\n",
        "\n",
        "  #Write an if statemnt to display course info\n",
        "  #Tell the user if the course exist\n",
        "  if course not in rooms:\n",
        "    print(course, \"Course doesn't exist! Try again.\" )\n",
        "  else:\n",
        "    print('Course details for',course,'are:')\n",
        "    print('Room # :',rooms[course])\n",
        "    print('Instructor:', instructors[course])\n",
        "    print('Time:', times[course])\n",
        "\n",
        "main()\n"
      ],
      "metadata": {
        "colab": {
          "base_uri": "https://localhost:8080/"
        },
        "id": "dzlUuSuCAWrI",
        "outputId": "5026d6b3-2f93-45d0-f24a-3358ce33d859"
      },
      "execution_count": 11,
      "outputs": [
        {
          "output_type": "stream",
          "name": "stdout",
          "text": [
            "Enter your course: Adam\n",
            "Adam Course doesn't exist! Try again.\n"
          ]
        }
      ]
    }
  ]
}