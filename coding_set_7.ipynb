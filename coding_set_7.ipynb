{
  "nbformat": 4,
  "nbformat_minor": 0,
  "metadata": {
    "colab": {
      "provenance": [],
      "authorship_tag": "ABX9TyMJY1i2cDecSPAyruO4CUPo",
      "include_colab_link": true
    },
    "kernelspec": {
      "name": "python3",
      "display_name": "Python 3"
    },
    "language_info": {
      "name": "python"
    }
  },
  "cells": [
    {
      "cell_type": "markdown",
      "metadata": {
        "id": "view-in-github",
        "colab_type": "text"
      },
      "source": [
        "<a href=\"https://colab.research.google.com/github/isaiah1717/Python-practice/blob/main/coding_set_7.ipynb\" target=\"_parent\"><img src=\"https://colab.research.google.com/assets/colab-badge.svg\" alt=\"Open In Colab\"/></a>"
      ]
    },
    {
      "cell_type": "markdown",
      "source": [
        "#Algorithm exercises\n",
        "##1: Write a statement that creates a list with the following strings: 'Einstein', 'Newton','Copernicus', and 'Kepler'."
      ],
      "metadata": {
        "id": "qUC0v-QrbP4V"
      }
    },
    {
      "cell_type": "code",
      "execution_count": null,
      "metadata": {
        "colab": {
          "base_uri": "https://localhost:8080/"
        },
        "id": "fCso_OOga06R",
        "outputId": "68d575b1-bdba-4965-9b32-b2fb54052dc5"
      },
      "outputs": [
        {
          "output_type": "stream",
          "name": "stdout",
          "text": [
            "['Einstein', 'Newton', 'Copernicus']\n"
          ]
        }
      ],
      "source": [
        "#Start by creating a function\n",
        "#create list\n",
        "#display the list\n",
        "def main():\n",
        "  list = [\"Einstein\", \"Newton\", \"Copernicus\", \"Kepler\"]\n",
        "  print(list)\n",
        "main()"
      ]
    },
    {
      "cell_type": "markdown",
      "source": [
        "##2: Assume names references a list. Write a for loop that displays each element of the list.\n",
        "\n"
      ],
      "metadata": {
        "id": "l9Obu7KEcRY6"
      }
    },
    {
      "cell_type": "code",
      "source": [
        "#create the function\n",
        "def main():\n",
        "  #create the list with names listed\n",
        "  names = ['Isaiah', 'Dewayne', 'Jackson']\n",
        "  names2 = []\n",
        "  #create for loop\n",
        "  for item in names:\n",
        "    names2.append(item)\n",
        "    print(names2)\n",
        "main()\n"
      ],
      "metadata": {
        "colab": {
          "base_uri": "https://localhost:8080/"
        },
        "id": "dubXI95bdNY2",
        "outputId": "1410ce8c-b348-4e3f-8512-01af778876dd"
      },
      "execution_count": null,
      "outputs": [
        {
          "output_type": "stream",
          "name": "stdout",
          "text": [
            "['Isaiah']\n",
            "['Isaiah', 'Dewayne']\n",
            "['Isaiah', 'Dewayne', 'Jackson']\n"
          ]
        }
      ]
    },
    {
      "cell_type": "markdown",
      "source": [
        "#Programming exercises\n",
        "##1:Design a program that asks the user to enter a store’s sales for each day of the week. The amounts should be stored in a list. Use a loop to calculate the total sales for the week and display the result"
      ],
      "metadata": {
        "id": "84Oa-gYp68ma"
      }
    },
    {
      "cell_type": "code",
      "source": [
        "def main():\n",
        "  #How many days are needed\n",
        "  NUM_DAYS = 7\n",
        "  #create a list\n",
        "  sales = [0] * NUM_DAYS\n",
        "\n",
        "  print(\"enter the sales for each day\")\n",
        "\n",
        "  #get sales for each day\n",
        "  for index in range(len(sales)):\n",
        "    sales[index] = float(input(f'day #{index + 1}: '))\n",
        "\n",
        "  #display the values entered\n",
        "  print('Here are the values you entered: ')\n",
        "  for value in sales:\n",
        "    print(value)\n",
        "\n",
        "    #display the sum of the value entered\n",
        "    total_sales = sum(sales)\n",
        "    print(f'total sales: {total_sales}')\n",
        "\n",
        "  #call function\n",
        "if __name__ == \"__main__\":\n",
        "    main()\n"
      ],
      "metadata": {
        "colab": {
          "base_uri": "https://localhost:8080/"
        },
        "id": "Qwd_NHvD7L0i",
        "outputId": "35efb217-3922-4b5a-b2d9-3c457cea4492"
      },
      "execution_count": null,
      "outputs": [
        {
          "output_type": "stream",
          "name": "stdout",
          "text": [
            "enter the sales for each day\n",
            "day #1: 2\n",
            "day #2: 2\n",
            "day #3: 2\n",
            "day #4: 2\n",
            "day #5: 2\n",
            "day #6: 2\n",
            "day #7: 2\n",
            "Here are the values you entered: \n",
            "2.0\n",
            "total sales: 14.0\n",
            "2.0\n",
            "total sales: 14.0\n",
            "2.0\n",
            "total sales: 14.0\n",
            "2.0\n",
            "total sales: 14.0\n",
            "2.0\n",
            "total sales: 14.0\n",
            "2.0\n",
            "total sales: 14.0\n",
            "2.0\n",
            "total sales: 14.0\n"
          ]
        }
      ]
    },
    {
      "cell_type": "markdown",
      "source": [
        "##14: Expense pie chart- Rent Gas Food Clothing Car payment Misc\n",
        "#Write a Python program that reads the data from the file and uses matplotlib to plot a pie chart showing how you spend your money."
      ],
      "metadata": {
        "id": "lOM1vWVJ94Rp"
      }
    },
    {
      "cell_type": "code",
      "source": [
        "import matplotlib.pyplot as plt\n",
        "#create function\n",
        "def main():\n",
        "    #list expenses\n",
        "    expenses = {\n",
        "        \"rent\": 900,\n",
        "        \"Gas\": 200,\n",
        "        \"food\": 140,\n",
        "        'clothing': 100,\n",
        "        'car payment': 125,\n",
        "        'misc': 100\n",
        "    }\n",
        "\n",
        "    file_path = \"c:/path/to/your/directory/expenses.txt\"\n",
        "\n",
        "    #open the file\n",
        "    with open('expenses.txt', 'w') as file:\n",
        "        for category, amount in expenses.items():\n",
        "            file.write(f\"{category}: {amount}\\n\")\n",
        "\n",
        "    categories = []\n",
        "    amounts = []\n",
        "    with open('expenses.txt', 'r') as file:\n",
        "        for line in file:\n",
        "            category, amount = line.strip().split(':')\n",
        "            categories.append(category)\n",
        "            amounts.append(float(amount))\n",
        "\n",
        "    # create the pie chart\n",
        "    plt.figure(figsize=(8, 8))\n",
        "    plt.pie(amounts, labels=categories, autopct='%1.1f%%', startangle=140)\n",
        "    plt.title('monthly expenses')\n",
        "    plt.axis('equal')\n",
        "\n",
        "    plt.savefig('expense_pie_chart.png')\n",
        "\n",
        "    plt.show()\n",
        "\n",
        "#call the function\n",
        "if __name__ == \"__main__\":\n",
        "    main()\n"
      ],
      "metadata": {
        "colab": {
          "base_uri": "https://localhost:8080/",
          "height": 675
        },
        "id": "Ce1OsaCL5Fbh",
        "outputId": "a4af8507-cf73-4516-e144-9d7dda25ba01"
      },
      "execution_count": null,
      "outputs": [
        {
          "output_type": "display_data",
          "data": {
            "text/plain": [
              "<Figure size 800x800 with 1 Axes>"
            ],
            "image/png": "[encoded data removed]"
          },
          "metadata": {}
        }
      ]
    },
    {
      "cell_type": "markdown",
      "source": [
        "##3\n",
        "#Rainfall statistics- Design a program that lets the user enter the total rainfall for each of 12 months into alist. The program should calculate and display the total rainfall for the year, the average monthly rainfall, the months with the highest and lowest amounts."
      ],
      "metadata": {
        "id": "fo4cslFpe4f3"
      }
    },
    {
      "cell_type": "code",
      "source": [
        "#create a list that stores the rainfall amount\n",
        "monthly_rainfall = []\n",
        "\n",
        "#Get the data to store\n",
        "for month in range(1,12):\n",
        "  while True:\n",
        "    try:\n",
        "      rainfall = float(input(\"Enter the rainfall for the month of {month}: \"))\n",
        "      if rainfall >= 0:\n",
        "        monthly_rainfall.append(rainfall)\n",
        "        break\n",
        "      else:\n",
        "          print('? Try again.' )\n",
        "    except ValueError:\n",
        "      print('number not valid, try again.')\n",
        "\n",
        "#create variables\n",
        "total_rainfall = sum(monthly_rainfall)\n",
        "average_rainfall = total_rainfall / 12\n",
        "max_rainfall = max(monthly_rainfall)\n",
        "min_rainfall = min(monthly_rainfall)\n",
        "month_with_most_rainfall = monthly_rainfall.index(max_rainfall) + 1\n",
        "month_with_least_rainfall = monthly_rainfall.index(min_rainfall) + 1\n",
        "\n",
        "print('\\nYearly statistics:')\n",
        "print(f'Total rainfall: {total_rainfall} inches')\n",
        "print(f'average monthly rainfall: {average_rainfall:.2f} inches')\n",
        "print(f'month with the most rainfall : Month {month_with_most_rainfall}')\n",
        "print(f'Month with the least rainfall: month {month_with_least_rainfall}')\n",
        "\n"
      ],
      "metadata": {
        "colab": {
          "base_uri": "https://localhost:8080/"
        },
        "id": "bHJt7fcygQyy",
        "outputId": "34372b03-19a3-4499-81da-c9b514484f26"
      },
      "execution_count": null,
      "outputs": [
        {
          "output_type": "stream",
          "name": "stdout",
          "text": [
            "Enter the rainfall for the month of {month}: 2\n",
            "Enter the rainfall for the month of {month}: 2\n",
            "Enter the rainfall for the month of {month}: 2\n",
            "Enter the rainfall for the month of {month}: 2\n",
            "Enter the rainfall for the month of {month}: 2\n",
            "Enter the rainfall for the month of {month}: 2\n",
            "Enter the rainfall for the month of {month}: 2\n",
            "Enter the rainfall for the month of {month}: 2\n",
            "Enter the rainfall for the month of {month}: 2\n",
            "Enter the rainfall for the month of {month}: 2\n",
            "Enter the rainfall for the month of {month}: 2\n",
            "\n",
            "Yearly statistics:\n",
            "Total rainfall: 22.0 inches\n",
            "average monthly rainfall: 1.83 inches\n",
            "month with the most rainfall : Month 1\n",
            "Month with the least rainfall: month 1\n"
          ]
        }
      ]
    },
    {
      "cell_type": "markdown",
      "source": [
        "##2\n",
        "#Lottery number generator: Design a program that generates a seven-digit lottery number. The program should generate seven random numbers, each in the range of 0 through 9, and assign each number to a list element. Then write another loop that displays the contents of the list."
      ],
      "metadata": {
        "id": "14JIp1FuFNLr"
      }
    },
    {
      "cell_type": "code",
      "source": [
        "import random\n",
        "\n",
        "# Put in the random function\n",
        "lottery_numbers = []\n",
        "\n",
        "# for loop for the 7 lottery numbers\n",
        "for _ in range(7):\n",
        "    number = random.randint(0, 9)\n",
        "    lottery_numbers.append(number)\n",
        "\n",
        "# print the lottery numbers\n",
        "print(\"Lottery Number:\")\n",
        "for number in lottery_numbers:\n",
        "    print(number, end=' ')"
      ],
      "metadata": {
        "colab": {
          "base_uri": "https://localhost:8080/"
        },
        "id": "Xi6KTktSsjaT",
        "outputId": "d718bfc7-1614-46de-a7c7-3615bc285402"
      },
      "execution_count": null,
      "outputs": [
        {
          "output_type": "stream",
          "name": "stdout",
          "text": [
            "Lottery Number:\n",
            "4 4 1 0 1 5 5 "
          ]
        }
      ]
    }
  ]
}